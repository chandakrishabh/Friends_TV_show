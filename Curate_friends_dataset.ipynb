{
 "cells": [
  {
   "cell_type": "code",
   "execution_count": 5,
   "metadata": {},
   "outputs": [],
   "source": [
    "import pandas as pd\n",
    "import numpy as np\n",
    "import ssl\n",
    "from urllib.request import urlopen\n",
    "from bs4 import BeautifulSoup\n",
    "import re\n",
    "import httplib2\n",
    "ssl._create_default_https_context = ssl._create_unverified_context\n",
    "response = urlopen('https://www.python.org')\n",
    "import matplotlib.pyplot as plt"
   ]
  },
  {
   "cell_type": "code",
   "execution_count": 7,
   "metadata": {},
   "outputs": [],
   "source": [
    "#create empty df with 24 episodes per season for 10 seasons\n",
    "names = ['ross','chandler','joey','monica','phoebe','rachel']\n",
    "names_5 = ['ross','joey','monica','phoebe','rachel']\n",
    "seasons = [num if len(num)==2 else '0'+num for num in np.arange(1,11).astype(str) ]\n",
    "episodes = [num if len(num)==2 else '0'+num for num in np.arange(1,25).astype(str) ]\n",
    "\n",
    "df = pd.DataFrame(columns = names)\n",
    "df['Season'],df['Episode'] = '',''\n",
    "df['Season'] = seasons*len(episodes)\n",
    "df['Episode'] = np.repeat(episodes,len(seasons))\n",
    "df['Season'] = pd.to_numeric(df[\"Season\"])\n",
    "df['Episode'] = pd.to_numeric(df[\"Episode\"])\n",
    "df.sort_values(by=['Season', 'Episode'],inplace = True)\n",
    "df.set_index(['Season','Episode'],inplace = True) #not sure if I want to keep this indexing"
   ]
  },
  {
   "cell_type": "code",
   "execution_count": 74,
   "metadata": {},
   "outputs": [
    {
     "name": "stdout",
     "output_type": "stream",
     "text": [
      "01\n",
      "02\n",
      "03\n",
      "04\n",
      "05\n",
      "06\n",
      "07\n",
      "08\n",
      "09\n",
      "10\n"
     ]
    }
   ],
   "source": [
    "seasons = [num if len(num)==2 else '0'+num for num in np.arange(1,11).astype(str) ]\n",
    "episodes = [num if len(num)==2 else '0'+num for num in np.arange(1,25).astype(str) ]\n",
    "\n",
    "for season in seasons:\n",
    "    print(season)\n",
    "    for episode in episodes:\n",
    "        url = \"https://fangj.github.io/friends/season/\"+season+episode+'.html'\n",
    "        if season =='09' and episode == '23':\n",
    "            url = 'https://fangj.github.io/friends/season/0923-0924.html'\n",
    "        if season =='10' and episode =='17':\n",
    "            url = 'https://fangj.github.io/friends/season/1017-1018.html'\n",
    "        h = httplib2.Http()\n",
    "        resp = h.request(url, 'HEAD')\n",
    "        if int(resp[0]['status']) < 400:\n",
    "            html = urlopen(url).read()\n",
    "            soup = BeautifulSoup(html)\n",
    "            # kill all script and style elements\n",
    "            for script in soup([\"script\", \"style\"]):\n",
    "                script.extract()    # rip it out\n",
    "            # get text\n",
    "            text = soup.get_text()\n",
    "            # break into lines and remove leading and trailing space on each\n",
    "            lines = (line.strip() for line in text.splitlines())\n",
    "            # break multi-headlines into a line each\n",
    "            chunks = (phrase.strip() for line in lines for phrase in line.split(\"  \"))\n",
    "            # drop blank lines\n",
    "            text = '\\n'.join(chunk for chunk in chunks if chunk)\n",
    "            genqa(text)\n",
    "            \n",
    "#             "
   ]
  },
  {
   "cell_type": "code",
   "execution_count": 73,
   "metadata": {
    "scrolled": true
   },
   "outputs": [],
   "source": [
    "def genqa(text):\n",
    "\n",
    "    f = open(\"all_lines.txt\", \"a+\")\n",
    "    q = ''\n",
    "    a = ''\n",
    "    p = ''\n",
    "    aa = False \n",
    "    qq = False\n",
    "    names_5 = ['ross','joey','monica','phoebe','rachel']\n",
    "    for line in text.split('\\n'):\n",
    "\n",
    "        #if we find a new line with a colon, start either 'q' or 'a' string\n",
    "        if len(re.findall(r'^.*:',line)) >0:\n",
    "\n",
    "            #append previous strings if both q and a>0\n",
    "            if len(a)>0 and len(q)>0:\n",
    "                a = re.sub(\"[\\(\\[].*?[\\)\\]]\", \"\", a)\n",
    "                q = re.sub(\"[\\(\\[].*?[\\)\\]]\", \"\", q)\n",
    "                f.write(' '.join(['Q:',q,'\\n']))\n",
    "                f.write(' '.join(['A:',a,'\\n'])) \n",
    "                q = ''\n",
    "                a = ''\n",
    "                aa= False\n",
    "                qq = False\n",
    "\n",
    "            starting = re.findall(r'^.*:',line)[0].split(':')[0].lower()\n",
    "            if starting in names_5:\n",
    "                q = ''.join(line.split(':')[1:]).lower()\n",
    "                qq = True\n",
    "                aa = False\n",
    "            if starting == 'chandler' and len(q)>0:\n",
    "                a=''.join(line.split(':')[1:]).lower()\n",
    "                aa = True\n",
    "                qq = False\n",
    "                \n",
    "        #else just add to whichever string we have started already\n",
    "        else:\n",
    "            if qq == True:\n",
    "                q=q+' ' +line\n",
    "            elif aa== True:\n",
    "                a=a+ ' '+line\n",
    "                \n",
    "    #append last set of dialogues            \n",
    "    if len(a)>0 and len(q)>0:\n",
    "        a = re.sub(\"[\\(\\[].*?[\\)\\]]\", \"\", a)\n",
    "        q = re.sub(\"[\\(\\[].*?[\\)\\]]\", \"\", q)\n",
    "        f.write(' '.join(['Q:',q,'\\n']))\n",
    "        f.write(' '.join(['A:',a,'\\n']))             \n",
    "\n",
    "    f.close()\n",
    "               \n",
    "        \n",
    "            \n",
    "            \n"
   ]
  }
 ],
 "metadata": {
  "kernelspec": {
   "display_name": "Python 3",
   "language": "python",
   "name": "python3"
  },
  "language_info": {
   "codemirror_mode": {
    "name": "ipython",
    "version": 3
   },
   "file_extension": ".py",
   "mimetype": "text/x-python",
   "name": "python",
   "nbconvert_exporter": "python",
   "pygments_lexer": "ipython3",
   "version": "3.7.3"
  }
 },
 "nbformat": 4,
 "nbformat_minor": 2
}
