{
 "cells": [
  {
   "cell_type": "code",
   "execution_count": 133,
   "metadata": {},
   "outputs": [],
   "source": [
    "import pandas as pd\n",
    "import numpy as np\n",
    "import ssl\n",
    "from urllib.request import urlopen\n",
    "from bs4 import BeautifulSoup\n",
    "import re\n",
    "import httplib2\n",
    "ssl._create_default_https_context = ssl._create_unverified_context\n",
    "response = urllib.request.urlopen('https://www.python.org')\n",
    "import matplotlib.pyplot as plt"
   ]
  },
  {
   "cell_type": "code",
   "execution_count": 211,
   "metadata": {},
   "outputs": [],
   "source": [
    "#create empty df with 24 episodes per season for 10 seasons\n",
    "names = ['ross','chandler','joey','monica','phoebe','rachel']\n",
    "df = pd.DataFrame(columns = names)\n",
    "df['Season'],df['Episode'] = '',''\n",
    "df['Season'] = seasons*len(episodes)\n",
    "df['Episode'] = np.repeat(episodes,len(seasons))\n",
    "df['Season'] = pd.to_numeric(df[\"Season\"])\n",
    "df['Episode'] = pd.to_numeric(df[\"Episode\"])\n",
    "df.sort_values(by=['Season', 'Episode'],inplace = True)\n",
    "df.set_index(['Season','Episode'],inplace = True) #not sure if I want to keep this indexing"
   ]
  },
  {
   "cell_type": "code",
   "execution_count": 212,
   "metadata": {},
   "outputs": [
    {
     "name": "stdout",
     "output_type": "stream",
     "text": [
      "01\n",
      "02\n",
      "03\n",
      "04\n",
      "05\n",
      "06\n",
      "07\n",
      "08\n",
      "09\n",
      "10\n"
     ]
    }
   ],
   "source": [
    "seasons = [num if len(num)==2 else '0'+num for num in np.arange(1,11).astype(str) ]\n",
    "episodes = [num if len(num)==2 else '0'+num for num in np.arange(1,25).astype(str) ]\n",
    "\n",
    "for season in seasons:\n",
    "    print(season)\n",
    "    for episode in episodes:\n",
    "        url = \"https://fangj.github.io/friends/season/\"+season+episode+'.html'\n",
    "        if season =='09' and episode == '23':\n",
    "            url = 'https://fangj.github.io/friends/season/0923-0924.html'\n",
    "        if season =='10' and episode =='17':\n",
    "            url = 'https://fangj.github.io/friends/season/1017-1018.html'\n",
    "        h = httplib2.Http()\n",
    "        resp = h.request(url, 'HEAD')\n",
    "        if int(resp[0]['status']) < 400:\n",
    "            html = urlopen(url).read()\n",
    "            soup = BeautifulSoup(html)\n",
    "            # kill all script and style elements\n",
    "            for script in soup([\"script\", \"style\"]):\n",
    "                script.extract()    # rip it out\n",
    "            # get text\n",
    "            text = soup.get_text()\n",
    "            # break into lines and remove leading and trailing space on each\n",
    "            lines = (line.strip() for line in text.splitlines())\n",
    "            # break multi-headlines into a line each\n",
    "            chunks = (phrase.strip() for line in lines for phrase in line.split(\"  \"))\n",
    "            # drop blank lines\n",
    "            text = '\\n'.join(chunk for chunk in chunks if chunk)\n",
    "            \n",
    "            \n",
    "            names = ['ross','chandler','joey','monica','phoebe','rachel']\n",
    "            d = dict.fromkeys(names,0)\n",
    "            for line in text.split('\\n'):\n",
    "                if len(re.findall(r'^.*:',line)) >0:\n",
    "                    starting = re.findall(r'^.*:',line)[0].split(':')[0].lower()\n",
    "                    if starting in names:\n",
    "                        l = re.sub(r'\\([^)]*\\)', '', line)\n",
    "                        d[starting]+= len(l.split())-1\n",
    "            df.loc[int(season),int(episode)] = d"
   ]
  },
  {
   "cell_type": "code",
   "execution_count": 238,
   "metadata": {},
   "outputs": [
    {
     "data": {
      "text/html": [
       "<div>\n",
       "<style scoped>\n",
       "    .dataframe tbody tr th:only-of-type {\n",
       "        vertical-align: middle;\n",
       "    }\n",
       "\n",
       "    .dataframe tbody tr th {\n",
       "        vertical-align: top;\n",
       "    }\n",
       "\n",
       "    .dataframe thead th {\n",
       "        text-align: right;\n",
       "    }\n",
       "</style>\n",
       "<table border=\"1\" class=\"dataframe\">\n",
       "  <thead>\n",
       "    <tr style=\"text-align: right;\">\n",
       "      <th></th>\n",
       "      <th></th>\n",
       "      <th>ross</th>\n",
       "      <th>chandler</th>\n",
       "      <th>joey</th>\n",
       "      <th>monica</th>\n",
       "      <th>phoebe</th>\n",
       "      <th>rachel</th>\n",
       "    </tr>\n",
       "    <tr>\n",
       "      <th>Season</th>\n",
       "      <th>Episode</th>\n",
       "      <th></th>\n",
       "      <th></th>\n",
       "      <th></th>\n",
       "      <th></th>\n",
       "      <th></th>\n",
       "      <th></th>\n",
       "    </tr>\n",
       "  </thead>\n",
       "  <tbody>\n",
       "    <tr>\n",
       "      <th rowspan=\"5\" valign=\"top\">1</th>\n",
       "      <th>1</th>\n",
       "      <td>267</td>\n",
       "      <td>205</td>\n",
       "      <td>207</td>\n",
       "      <td>421</td>\n",
       "      <td>130</td>\n",
       "      <td>290</td>\n",
       "    </tr>\n",
       "    <tr>\n",
       "      <th>2</th>\n",
       "      <td>466</td>\n",
       "      <td>155</td>\n",
       "      <td>55</td>\n",
       "      <td>185</td>\n",
       "      <td>92</td>\n",
       "      <td>273</td>\n",
       "    </tr>\n",
       "    <tr>\n",
       "      <th>3</th>\n",
       "      <td>245</td>\n",
       "      <td>314</td>\n",
       "      <td>169</td>\n",
       "      <td>377</td>\n",
       "      <td>356</td>\n",
       "      <td>176</td>\n",
       "    </tr>\n",
       "    <tr>\n",
       "      <th>4</th>\n",
       "      <td>247</td>\n",
       "      <td>186</td>\n",
       "      <td>122</td>\n",
       "      <td>242</td>\n",
       "      <td>165</td>\n",
       "      <td>263</td>\n",
       "    </tr>\n",
       "    <tr>\n",
       "      <th>5</th>\n",
       "      <td>346</td>\n",
       "      <td>263</td>\n",
       "      <td>294</td>\n",
       "      <td>258</td>\n",
       "      <td>176</td>\n",
       "      <td>285</td>\n",
       "    </tr>\n",
       "    <tr>\n",
       "      <th>...</th>\n",
       "      <th>...</th>\n",
       "      <td>...</td>\n",
       "      <td>...</td>\n",
       "      <td>...</td>\n",
       "      <td>...</td>\n",
       "      <td>...</td>\n",
       "      <td>...</td>\n",
       "    </tr>\n",
       "    <tr>\n",
       "      <th rowspan=\"5\" valign=\"top\">10</th>\n",
       "      <th>13</th>\n",
       "      <td>637</td>\n",
       "      <td>251</td>\n",
       "      <td>287</td>\n",
       "      <td>257</td>\n",
       "      <td>312</td>\n",
       "      <td>540</td>\n",
       "    </tr>\n",
       "    <tr>\n",
       "      <th>14</th>\n",
       "      <td>445</td>\n",
       "      <td>261</td>\n",
       "      <td>482</td>\n",
       "      <td>299</td>\n",
       "      <td>411</td>\n",
       "      <td>429</td>\n",
       "    </tr>\n",
       "    <tr>\n",
       "      <th>15</th>\n",
       "      <td>369</td>\n",
       "      <td>258</td>\n",
       "      <td>222</td>\n",
       "      <td>171</td>\n",
       "      <td>218</td>\n",
       "      <td>241</td>\n",
       "    </tr>\n",
       "    <tr>\n",
       "      <th>16</th>\n",
       "      <td>505</td>\n",
       "      <td>386</td>\n",
       "      <td>242</td>\n",
       "      <td>597</td>\n",
       "      <td>288</td>\n",
       "      <td>494</td>\n",
       "    </tr>\n",
       "    <tr>\n",
       "      <th>17</th>\n",
       "      <td>667</td>\n",
       "      <td>526</td>\n",
       "      <td>583</td>\n",
       "      <td>501</td>\n",
       "      <td>579</td>\n",
       "      <td>498</td>\n",
       "    </tr>\n",
       "  </tbody>\n",
       "</table>\n",
       "<p>224 rows × 6 columns</p>\n",
       "</div>"
      ],
      "text/plain": [
       "               ross chandler joey monica phoebe rachel\n",
       "Season Episode                                        \n",
       "1      1        267      205  207    421    130    290\n",
       "       2        466      155   55    185     92    273\n",
       "       3        245      314  169    377    356    176\n",
       "       4        247      186  122    242    165    263\n",
       "       5        346      263  294    258    176    285\n",
       "...             ...      ...  ...    ...    ...    ...\n",
       "10     13       637      251  287    257    312    540\n",
       "       14       445      261  482    299    411    429\n",
       "       15       369      258  222    171    218    241\n",
       "       16       505      386  242    597    288    494\n",
       "       17       667      526  583    501    579    498\n",
       "\n",
       "[224 rows x 6 columns]"
      ]
     },
     "execution_count": 238,
     "metadata": {},
     "output_type": "execute_result"
    }
   ],
   "source": [
    "df.dropna(thresh = 6,inplace=  True)\n",
    "df"
   ]
  },
  {
   "cell_type": "code",
   "execution_count": 279,
   "metadata": {},
   "outputs": [],
   "source": [
    "from requests import get\n",
    "url = 'https://www.imdb.com/title/tt0583459/?ref_=ttep_ep1'\n",
    "response = get(url)\n",
    "# print(response.text)\n",
    "\n",
    "from bs4 import BeautifulSoup\n",
    "# Initializing the series that the loop will populate\n",
    "friends_episodes = []\n",
    "\n",
    "# For every season in the series-- range depends on the show\n",
    "for sn in range(1,11):\n",
    "    # Request from the server the content of the web page by using get(), and store the server’s response in the variable response\n",
    "    response = get('https://www.imdb.com/title/tt0108778/episodes?season=' + str(sn))\n",
    "\n",
    "    # Parse the content of the request with BeautifulSoup\n",
    "    page_html = BeautifulSoup(response.text, 'html.parser')\n",
    "\n",
    "    # Select all the episode containers from the season's page\n",
    "    episode_containers = page_html.find_all('div', class_ = 'info')\n",
    "\n",
    "    # For each episode in each season\n",
    "    for episodes in episode_containers:\n",
    "            # Get the info of each episode on the page\n",
    "            season = int(sn)\n",
    "            episode_number = int(episodes.meta['content'])\n",
    "            title = episodes.a['title']\n",
    "            airdate = episodes.find('div', class_='airdate').text.strip()\n",
    "            rating = episodes.find('span', class_='ipl-rating-star__rating').text\n",
    "            total_votes = episodes.find('span', class_='ipl-rating-star__total-votes').text\n",
    "            desc = episodes.find('div', class_='item_description').text.strip()\n",
    "            # Compiling the episode info\n",
    "            episode_data = [season, episode_number, title, airdate, rating, total_votes, desc]\n",
    "\n",
    "            # Append the episode info to the complete dataset\n",
    "            friends_episodes.append(episode_data)"
   ]
  },
  {
   "cell_type": "code",
   "execution_count": 280,
   "metadata": {},
   "outputs": [],
   "source": [
    "ratings_df = pd.DataFrame(friends_episodes, columns = ['Season', 'Episode', 'title', 'airdate', 'rating', 'total_votes', 'desc'])\n",
    "ratings_df.set_index(['Season','Episode'],inplace = True)"
   ]
  },
  {
   "cell_type": "code",
   "execution_count": 283,
   "metadata": {},
   "outputs": [],
   "source": [
    "merged_df = df.merge(ratings_df,left_index = True,right_index=True,how='inner')"
   ]
  },
  {
   "cell_type": "code",
   "execution_count": 307,
   "metadata": {},
   "outputs": [
    {
     "data": {
      "text/plain": [
       "Text(0.5, 1.0, 'Correlation of episode rating to # words spoken')"
      ]
     },
     "execution_count": 307,
     "metadata": {},
     "output_type": "execute_result"
    },
    {
     "data": {
      "image/png": "[encoded data removed]",
      "text/plain": [
       "<Figure size 432x288 with 1 Axes>"
      ]
     },
     "metadata": {
      "needs_background": "light"
     },
     "output_type": "display_data"
    }
   ],
   "source": [
    "corrs = {}\n",
    "for name in names:\n",
    "    corrs[name]=np.corrcoef(merged_df[name].astype(int),merged_df['rating'].astype(float))[0,1]\n",
    "plt.bar(list(corrs.keys()), list(corrs.values()))\n",
    "plt.title('Correlation of episode rating to # words spoken')"
   ]
  },
  {
   "cell_type": "code",
   "execution_count": 315,
   "metadata": {},
   "outputs": [
    {
     "data": {
      "text/plain": [
       "(4, 21)"
      ]
     },
     "execution_count": 315,
     "metadata": {},
     "output_type": "execute_result"
    }
   ],
   "source": [
    "ratings_df['rating'].astype(float).idxmin()"
   ]
  },
  {
   "cell_type": "code",
   "execution_count": 324,
   "metadata": {},
   "outputs": [
    {
     "data": {
      "text/plain": [
       "title                                The One with the Invitation\n",
       "airdate                                             23 Apr. 1998\n",
       "rating                                                       7.2\n",
       "total_votes                                              (3,570)\n",
       "desc           As Ross and Emily send out wedding invitations...\n",
       "Name: (4, 21), dtype: object"
      ]
     },
     "execution_count": 324,
     "metadata": {},
     "output_type": "execute_result"
    }
   ],
   "source": [
    "ratings_df.loc[4,21]"
   ]
  },
  {
   "cell_type": "code",
   "execution_count": 371,
   "metadata": {},
   "outputs": [],
   "source": [
    "#look at each character's progression over 10 seasons ->\n",
    "d = dict.fromkeys(names,[])\n",
    "\n",
    "for season in range(1,11):\n",
    "    season_df = merged_df.loc[season]\n",
    "    for name in names:\n",
    "        d[name] = d[name]+[(np.corrcoef(season_df[name].astype(int),season_df['rating'].astype(float))[0,1])]\n"
   ]
  },
  {
   "cell_type": "code",
   "execution_count": 378,
   "metadata": {},
   "outputs": [
    {
     "data": {
      "image/png": "[encoded data removed]",
      "text/plain": [
       "<Figure size 432x288 with 1 Axes>"
      ]
     },
     "metadata": {
      "needs_background": "light"
     },
     "output_type": "display_data"
    },
    {
     "data": {
      "image/png": "[encoded data removed]",
      "text/plain": [
       "<Figure size 432x288 with 1 Axes>"
      ]
     },
     "metadata": {
      "needs_background": "light"
     },
     "output_type": "display_data"
    },
    {
     "data": {
      "image/png": "[encoded data removed]",
      "text/plain": [
       "<Figure size 432x288 with 1 Axes>"
      ]
     },
     "metadata": {
      "needs_background": "light"
     },
     "output_type": "display_data"
    },
    {
     "data": {
      "image/png": "[encoded data removed]",
      "text/plain": [
       "<Figure size 432x288 with 1 Axes>"
      ]
     },
     "metadata": {
      "needs_background": "light"
     },
     "output_type": "display_data"
    },
    {
     "data": {
      "image/png": "[encoded data removed]",
      "text/plain": [
       "<Figure size 432x288 with 1 Axes>"
      ]
     },
     "metadata": {
      "needs_background": "light"
     },
     "output_type": "display_data"
    },
    {
     "data": {
      "image/png": "[encoded data removed]",
      "text/plain": [
       "<Figure size 432x288 with 1 Axes>"
      ]
     },
     "metadata": {
      "needs_background": "light"
     },
     "output_type": "display_data"
    }
   ],
   "source": [
    "for name in names:\n",
    "    plt.figure()\n",
    "    plt.plot(np.arange(1,11),d[name],label = name)\n",
    "    plt.legend()"
   ]
  },
  {
   "cell_type": "code",
   "execution_count": 345,
   "metadata": {},
   "outputs": [
    {
     "data": {
      "text/plain": [
       "{'ross': [0.11578322906190966,\n",
       "  -0.17731522737533478,\n",
       "  0.4946045054199065,\n",
       "  -0.20789760891524375,\n",
       "  0.14944869864048754,\n",
       "  0.21983708739514493],\n",
       " 'chandler': [0.11578322906190966,\n",
       "  -0.17731522737533478,\n",
       "  0.4946045054199065,\n",
       "  -0.20789760891524375,\n",
       "  0.14944869864048754,\n",
       "  0.21983708739514493],\n",
       " 'joey': [0.11578322906190966,\n",
       "  -0.17731522737533478,\n",
       "  0.4946045054199065,\n",
       "  -0.20789760891524375,\n",
       "  0.14944869864048754,\n",
       "  0.21983708739514493],\n",
       " 'monica': [0.11578322906190966,\n",
       "  -0.17731522737533478,\n",
       "  0.4946045054199065,\n",
       "  -0.20789760891524375,\n",
       "  0.14944869864048754,\n",
       "  0.21983708739514493],\n",
       " 'phoebe': [0.11578322906190966,\n",
       "  -0.17731522737533478,\n",
       "  0.4946045054199065,\n",
       "  -0.20789760891524375,\n",
       "  0.14944869864048754,\n",
       "  0.21983708739514493],\n",
       " 'rachel': [0.11578322906190966,\n",
       "  -0.17731522737533478,\n",
       "  0.4946045054199065,\n",
       "  -0.20789760891524375,\n",
       "  0.14944869864048754,\n",
       "  0.21983708739514493]}"
      ]
     },
     "execution_count": 345,
     "metadata": {},
     "output_type": "execute_result"
    }
   ],
   "source": [
    "d"
   ]
  },
  {
   "cell_type": "code",
   "execution_count": 343,
   "metadata": {},
   "outputs": [
    {
     "data": {
      "text/plain": [
       "(Episode\n",
       " 1     290\n",
       " 2     273\n",
       " 3     176\n",
       " 4     263\n",
       " 5     285\n",
       " 6     119\n",
       " 7     249\n",
       " 8     137\n",
       " 9     305\n",
       " 10    129\n",
       " 11    136\n",
       " 12    263\n",
       " 13    207\n",
       " 14    135\n",
       " 15    182\n",
       " 16    173\n",
       " 17    360\n",
       " 18    482\n",
       " 19    437\n",
       " 20    451\n",
       " 21    221\n",
       " 22    188\n",
       " 23    154\n",
       " 24    405\n",
       " Name: rachel, dtype: int64, Episode\n",
       " 1     8.3\n",
       " 2     8.1\n",
       " 3     8.2\n",
       " 4     8.1\n",
       " 5     8.5\n",
       " 6     8.1\n",
       " 7     9.0\n",
       " 8     8.1\n",
       " 9     8.2\n",
       " 10    8.1\n",
       " 11    8.2\n",
       " 12    8.2\n",
       " 13    8.7\n",
       " 14    8.3\n",
       " 15    8.2\n",
       " 16    8.2\n",
       " 17    8.5\n",
       " 18    8.8\n",
       " 19    8.1\n",
       " 20    7.9\n",
       " 21    7.9\n",
       " 22    8.3\n",
       " 23    8.7\n",
       " 24    8.9\n",
       " Name: rating, dtype: float64)"
      ]
     },
     "execution_count": 343,
     "metadata": {},
     "output_type": "execute_result"
    }
   ],
   "source": [
    "season_df[name].astype(int),season_df['rating'].astype(float)"
   ]
  },
  {
   "cell_type": "code",
   "execution_count": 335,
   "metadata": {},
   "outputs": [
    {
     "data": {
      "text/html": [
       "<div>\n",
       "<style scoped>\n",
       "    .dataframe tbody tr th:only-of-type {\n",
       "        vertical-align: middle;\n",
       "    }\n",
       "\n",
       "    .dataframe tbody tr th {\n",
       "        vertical-align: top;\n",
       "    }\n",
       "\n",
       "    .dataframe thead th {\n",
       "        text-align: right;\n",
       "    }\n",
       "</style>\n",
       "<table border=\"1\" class=\"dataframe\">\n",
       "  <thead>\n",
       "    <tr style=\"text-align: right;\">\n",
       "      <th></th>\n",
       "      <th>ross</th>\n",
       "      <th>chandler</th>\n",
       "      <th>joey</th>\n",
       "      <th>monica</th>\n",
       "      <th>phoebe</th>\n",
       "      <th>rachel</th>\n",
       "      <th>title</th>\n",
       "      <th>airdate</th>\n",
       "      <th>rating</th>\n",
       "      <th>total_votes</th>\n",
       "      <th>desc</th>\n",
       "    </tr>\n",
       "    <tr>\n",
       "      <th>Episode</th>\n",
       "      <th></th>\n",
       "      <th></th>\n",
       "      <th></th>\n",
       "      <th></th>\n",
       "      <th></th>\n",
       "      <th></th>\n",
       "      <th></th>\n",
       "      <th></th>\n",
       "      <th></th>\n",
       "      <th></th>\n",
       "      <th></th>\n",
       "    </tr>\n",
       "  </thead>\n",
       "  <tbody>\n",
       "    <tr>\n",
       "      <th>1</th>\n",
       "      <td>426</td>\n",
       "      <td>254</td>\n",
       "      <td>272</td>\n",
       "      <td>277</td>\n",
       "      <td>321</td>\n",
       "      <td>372</td>\n",
       "      <td>The One After Joey and Rachel Kiss</td>\n",
       "      <td>25 Sep. 2003</td>\n",
       "      <td>8.5</td>\n",
       "      <td>(3,304)</td>\n",
       "      <td>Joey and Ross both attempt to come clean to ea...</td>\n",
       "    </tr>\n",
       "    <tr>\n",
       "      <th>2</th>\n",
       "      <td>389</td>\n",
       "      <td>185</td>\n",
       "      <td>269</td>\n",
       "      <td>146</td>\n",
       "      <td>216</td>\n",
       "      <td>180</td>\n",
       "      <td>The One Where Ross Is Fine</td>\n",
       "      <td>2 Oct. 2003</td>\n",
       "      <td>8.8</td>\n",
       "      <td>(3,584)</td>\n",
       "      <td>Rachel and Joey fear for Ross's state of mind ...</td>\n",
       "    </tr>\n",
       "    <tr>\n",
       "      <th>3</th>\n",
       "      <td>205</td>\n",
       "      <td>259</td>\n",
       "      <td>295</td>\n",
       "      <td>206</td>\n",
       "      <td>176</td>\n",
       "      <td>279</td>\n",
       "      <td>The One with Ross's Tan</td>\n",
       "      <td>9 Oct. 2003</td>\n",
       "      <td>8.8</td>\n",
       "      <td>(3,476)</td>\n",
       "      <td>Ross goes to a tanning salon but fails to foll...</td>\n",
       "    </tr>\n",
       "    <tr>\n",
       "      <th>4</th>\n",
       "      <td>332</td>\n",
       "      <td>286</td>\n",
       "      <td>357</td>\n",
       "      <td>299</td>\n",
       "      <td>237</td>\n",
       "      <td>406</td>\n",
       "      <td>The One with the Cake</td>\n",
       "      <td>23 Oct. 2003</td>\n",
       "      <td>8.3</td>\n",
       "      <td>(2,998)</td>\n",
       "      <td>On Emma's first birthday, Ross and Rachel conv...</td>\n",
       "    </tr>\n",
       "    <tr>\n",
       "      <th>5</th>\n",
       "      <td>245</td>\n",
       "      <td>192</td>\n",
       "      <td>278</td>\n",
       "      <td>224</td>\n",
       "      <td>278</td>\n",
       "      <td>492</td>\n",
       "      <td>The One Where Rachel's Sister Babysits</td>\n",
       "      <td>30 Oct. 2003</td>\n",
       "      <td>8.2</td>\n",
       "      <td>(2,989)</td>\n",
       "      <td>Rachel's sister Amy comes to visit and moves i...</td>\n",
       "    </tr>\n",
       "    <tr>\n",
       "      <th>6</th>\n",
       "      <td>337</td>\n",
       "      <td>213</td>\n",
       "      <td>213</td>\n",
       "      <td>172</td>\n",
       "      <td>194</td>\n",
       "      <td>215</td>\n",
       "      <td>The One with Ross' Grant</td>\n",
       "      <td>6 Nov. 2003</td>\n",
       "      <td>8.2</td>\n",
       "      <td>(3,028)</td>\n",
       "      <td>Ross applies for a paleontology grant and find...</td>\n",
       "    </tr>\n",
       "    <tr>\n",
       "      <th>7</th>\n",
       "      <td>305</td>\n",
       "      <td>289</td>\n",
       "      <td>194</td>\n",
       "      <td>291</td>\n",
       "      <td>339</td>\n",
       "      <td>256</td>\n",
       "      <td>The One with the Home Study</td>\n",
       "      <td>13 Nov. 2003</td>\n",
       "      <td>8.3</td>\n",
       "      <td>(2,883)</td>\n",
       "      <td>Monica and Chandler nervously prepare for a vi...</td>\n",
       "    </tr>\n",
       "    <tr>\n",
       "      <th>8</th>\n",
       "      <td>384</td>\n",
       "      <td>545</td>\n",
       "      <td>527</td>\n",
       "      <td>524</td>\n",
       "      <td>495</td>\n",
       "      <td>517</td>\n",
       "      <td>The One with the Late Thanksgiving</td>\n",
       "      <td>20 Nov. 2003</td>\n",
       "      <td>8.9</td>\n",
       "      <td>(3,517)</td>\n",
       "      <td>Joey, Ross, Rachel and Phoebe convince Monica ...</td>\n",
       "    </tr>\n",
       "    <tr>\n",
       "      <th>9</th>\n",
       "      <td>295</td>\n",
       "      <td>484</td>\n",
       "      <td>503</td>\n",
       "      <td>431</td>\n",
       "      <td>262</td>\n",
       "      <td>312</td>\n",
       "      <td>The One with the Birth Mother</td>\n",
       "      <td>8 Jan. 2004</td>\n",
       "      <td>8.6</td>\n",
       "      <td>(3,045)</td>\n",
       "      <td>After Rachel confirms Joey is more mature in r...</td>\n",
       "    </tr>\n",
       "    <tr>\n",
       "      <th>10</th>\n",
       "      <td>419</td>\n",
       "      <td>521</td>\n",
       "      <td>220</td>\n",
       "      <td>656</td>\n",
       "      <td>468</td>\n",
       "      <td>455</td>\n",
       "      <td>The One Where Chandler Gets Caught</td>\n",
       "      <td>15 Jan. 2004</td>\n",
       "      <td>8.0</td>\n",
       "      <td>(2,919)</td>\n",
       "      <td>Chandler and Monica have decided they want to ...</td>\n",
       "    </tr>\n",
       "    <tr>\n",
       "      <th>11</th>\n",
       "      <td>585</td>\n",
       "      <td>400</td>\n",
       "      <td>291</td>\n",
       "      <td>305</td>\n",
       "      <td>266</td>\n",
       "      <td>277</td>\n",
       "      <td>The One Where the Stripper Cries</td>\n",
       "      <td>5 Feb. 2004</td>\n",
       "      <td>9.0</td>\n",
       "      <td>(3,894)</td>\n",
       "      <td>Old secrets come to light when Ross and Chandl...</td>\n",
       "    </tr>\n",
       "    <tr>\n",
       "      <th>12</th>\n",
       "      <td>373</td>\n",
       "      <td>448</td>\n",
       "      <td>530</td>\n",
       "      <td>614</td>\n",
       "      <td>927</td>\n",
       "      <td>269</td>\n",
       "      <td>The One with Phoebe's Wedding</td>\n",
       "      <td>12 Feb. 2004</td>\n",
       "      <td>8.9</td>\n",
       "      <td>(3,361)</td>\n",
       "      <td>Chaos ensues as Phoebe and Mike prepare to get...</td>\n",
       "    </tr>\n",
       "    <tr>\n",
       "      <th>13</th>\n",
       "      <td>637</td>\n",
       "      <td>251</td>\n",
       "      <td>287</td>\n",
       "      <td>257</td>\n",
       "      <td>312</td>\n",
       "      <td>540</td>\n",
       "      <td>The One Where Joey Speaks French</td>\n",
       "      <td>19 Feb. 2004</td>\n",
       "      <td>8.5</td>\n",
       "      <td>(3,236)</td>\n",
       "      <td>Phoebe tries to teach Joey to speak French for...</td>\n",
       "    </tr>\n",
       "    <tr>\n",
       "      <th>14</th>\n",
       "      <td>445</td>\n",
       "      <td>261</td>\n",
       "      <td>482</td>\n",
       "      <td>299</td>\n",
       "      <td>411</td>\n",
       "      <td>429</td>\n",
       "      <td>The One with Princess Consuela</td>\n",
       "      <td>26 Feb. 2004</td>\n",
       "      <td>8.6</td>\n",
       "      <td>(3,170)</td>\n",
       "      <td>When Phoebe goes to get her name changed she r...</td>\n",
       "    </tr>\n",
       "    <tr>\n",
       "      <th>15</th>\n",
       "      <td>369</td>\n",
       "      <td>258</td>\n",
       "      <td>222</td>\n",
       "      <td>171</td>\n",
       "      <td>218</td>\n",
       "      <td>241</td>\n",
       "      <td>The One Where Estelle Dies</td>\n",
       "      <td>22 Apr. 2004</td>\n",
       "      <td>8.5</td>\n",
       "      <td>(2,938)</td>\n",
       "      <td>Ross tries to get Rachel to go back to Ralph L...</td>\n",
       "    </tr>\n",
       "    <tr>\n",
       "      <th>16</th>\n",
       "      <td>505</td>\n",
       "      <td>386</td>\n",
       "      <td>242</td>\n",
       "      <td>597</td>\n",
       "      <td>288</td>\n",
       "      <td>494</td>\n",
       "      <td>The One with Rachel's Going Away Party</td>\n",
       "      <td>29 Apr. 2004</td>\n",
       "      <td>8.9</td>\n",
       "      <td>(3,341)</td>\n",
       "      <td>The gang throws Rachel a goodbye party, during...</td>\n",
       "    </tr>\n",
       "    <tr>\n",
       "      <th>17</th>\n",
       "      <td>667</td>\n",
       "      <td>526</td>\n",
       "      <td>583</td>\n",
       "      <td>501</td>\n",
       "      <td>579</td>\n",
       "      <td>498</td>\n",
       "      <td>The Last One: Part 2</td>\n",
       "      <td>6 May 2004</td>\n",
       "      <td>9.7</td>\n",
       "      <td>(11,387)</td>\n",
       "      <td>Phoebe races Ross to the airport in a bid to s...</td>\n",
       "    </tr>\n",
       "  </tbody>\n",
       "</table>\n",
       "</div>"
      ],
      "text/plain": [
       "        ross chandler joey monica phoebe rachel  \\\n",
       "Episode                                           \n",
       "1        426      254  272    277    321    372   \n",
       "2        389      185  269    146    216    180   \n",
       "3        205      259  295    206    176    279   \n",
       "4        332      286  357    299    237    406   \n",
       "5        245      192  278    224    278    492   \n",
       "6        337      213  213    172    194    215   \n",
       "7        305      289  194    291    339    256   \n",
       "8        384      545  527    524    495    517   \n",
       "9        295      484  503    431    262    312   \n",
       "10       419      521  220    656    468    455   \n",
       "11       585      400  291    305    266    277   \n",
       "12       373      448  530    614    927    269   \n",
       "13       637      251  287    257    312    540   \n",
       "14       445      261  482    299    411    429   \n",
       "15       369      258  222    171    218    241   \n",
       "16       505      386  242    597    288    494   \n",
       "17       667      526  583    501    579    498   \n",
       "\n",
       "                                          title       airdate rating  \\\n",
       "Episode                                                                \n",
       "1            The One After Joey and Rachel Kiss  25 Sep. 2003    8.5   \n",
       "2                    The One Where Ross Is Fine   2 Oct. 2003    8.8   \n",
       "3                       The One with Ross's Tan   9 Oct. 2003    8.8   \n",
       "4                         The One with the Cake  23 Oct. 2003    8.3   \n",
       "5        The One Where Rachel's Sister Babysits  30 Oct. 2003    8.2   \n",
       "6                      The One with Ross' Grant   6 Nov. 2003    8.2   \n",
       "7                   The One with the Home Study  13 Nov. 2003    8.3   \n",
       "8            The One with the Late Thanksgiving  20 Nov. 2003    8.9   \n",
       "9                 The One with the Birth Mother   8 Jan. 2004    8.6   \n",
       "10           The One Where Chandler Gets Caught  15 Jan. 2004    8.0   \n",
       "11             The One Where the Stripper Cries   5 Feb. 2004    9.0   \n",
       "12                The One with Phoebe's Wedding  12 Feb. 2004    8.9   \n",
       "13             The One Where Joey Speaks French  19 Feb. 2004    8.5   \n",
       "14               The One with Princess Consuela  26 Feb. 2004    8.6   \n",
       "15                   The One Where Estelle Dies  22 Apr. 2004    8.5   \n",
       "16       The One with Rachel's Going Away Party  29 Apr. 2004    8.9   \n",
       "17                         The Last One: Part 2    6 May 2004    9.7   \n",
       "\n",
       "        total_votes                                               desc  \n",
       "Episode                                                                 \n",
       "1           (3,304)  Joey and Ross both attempt to come clean to ea...  \n",
       "2           (3,584)  Rachel and Joey fear for Ross's state of mind ...  \n",
       "3           (3,476)  Ross goes to a tanning salon but fails to foll...  \n",
       "4           (2,998)  On Emma's first birthday, Ross and Rachel conv...  \n",
       "5           (2,989)  Rachel's sister Amy comes to visit and moves i...  \n",
       "6           (3,028)  Ross applies for a paleontology grant and find...  \n",
       "7           (2,883)  Monica and Chandler nervously prepare for a vi...  \n",
       "8           (3,517)  Joey, Ross, Rachel and Phoebe convince Monica ...  \n",
       "9           (3,045)  After Rachel confirms Joey is more mature in r...  \n",
       "10          (2,919)  Chandler and Monica have decided they want to ...  \n",
       "11          (3,894)  Old secrets come to light when Ross and Chandl...  \n",
       "12          (3,361)  Chaos ensues as Phoebe and Mike prepare to get...  \n",
       "13          (3,236)  Phoebe tries to teach Joey to speak French for...  \n",
       "14          (3,170)  When Phoebe goes to get her name changed she r...  \n",
       "15          (2,938)  Ross tries to get Rachel to go back to Ralph L...  \n",
       "16          (3,341)  The gang throws Rachel a goodbye party, during...  \n",
       "17         (11,387)  Phoebe races Ross to the airport in a bid to s...  "
      ]
     },
     "execution_count": 335,
     "metadata": {},
     "output_type": "execute_result"
    }
   ],
   "source": [
    "season_df"
   ]
  },
  {
   "cell_type": "code",
   "execution_count": 359,
   "metadata": {},
   "outputs": [
    {
     "name": "stdout",
     "output_type": "stream",
     "text": [
      "[]\n",
      "[]\n",
      "[]\n",
      "[]\n",
      "[]\n",
      "[]\n"
     ]
    }
   ],
   "source": [
    "for name in names:\n",
    "    print(d[name])"
   ]
  },
  {
   "cell_type": "code",
   "execution_count": 382,
   "metadata": {},
   "outputs": [],
   "source": [
    "merged_df.to_excel('ratings.xlsx')"
   ]
  },
  {
   "cell_type": "code",
   "execution_count": 381,
   "metadata": {},
   "outputs": [
    {
     "name": "stdout",
     "output_type": "stream",
     "text": [
      "Collecting openpyxl\n",
      "  Downloading openpyxl-3.0.5-py2.py3-none-any.whl (242 kB)\n",
      "\u001b[K     |████████████████████████████████| 242 kB 1.7 MB/s eta 0:00:01\n",
      "\u001b[?25hCollecting et-xmlfile\n",
      "  Downloading et_xmlfile-1.0.1.tar.gz (8.4 kB)\n",
      "Collecting jdcal\n",
      "  Downloading jdcal-1.4.1-py2.py3-none-any.whl (9.5 kB)\n",
      "Building wheels for collected packages: et-xmlfile\n",
      "  Building wheel for et-xmlfile (setup.py) ... \u001b[?25ldone\n",
      "\u001b[?25h  Created wheel for et-xmlfile: filename=et_xmlfile-1.0.1-py3-none-any.whl size=8915 sha256=6ba8d7d136d1fe2ea2e917a2fefd35ca53e4788f7fa0065900ad844409cba458\n",
      "  Stored in directory: /Users/chandak_rishabh/Library/Caches/pip/wheels/e2/bd/55/048b4fd505716c4c298f42ee02dffd9496bb6d212b266c7f31\n",
      "Successfully built et-xmlfile\n",
      "Installing collected packages: et-xmlfile, jdcal, openpyxl\n",
      "Successfully installed et-xmlfile-1.0.1 jdcal-1.4.1 openpyxl-3.0.5\n",
      "\u001b[33mWARNING: You are using pip version 20.1.1; however, version 20.2.2 is available.\n",
      "You should consider upgrading via the '/Library/Frameworks/Python.framework/Versions/3.7/bin/python3.7 -m pip install --upgrade pip' command.\u001b[0m\n"
     ]
    }
   ],
   "source": [
    "!pip install openpyxl"
   ]
  },
  {
   "cell_type": "code",
   "execution_count": null,
   "metadata": {},
   "outputs": [],
   "source": []
  }
 ],
 "metadata": {
  "kernelspec": {
   "display_name": "Python 3",
   "language": "python",
   "name": "python3"
  },
  "language_info": {
   "codemirror_mode": {
    "name": "ipython",
    "version": 3
   },
   "file_extension": ".py",
   "mimetype": "text/x-python",
   "name": "python",
   "nbconvert_exporter": "python",
   "pygments_lexer": "ipython3",
   "version": "3.8.3"
  },
  "varInspector": {
   "cols": {
    "lenName": 16,
    "lenType": 16,
    "lenVar": 40
   },
   "kernels_config": {
    "python": {
     "delete_cmd_postfix": "",
     "delete_cmd_prefix": "del ",
     "library": "var_list.py",
     "varRefreshCmd": "print(var_dic_list())"
    },
    "r": {
     "delete_cmd_postfix": ") ",
     "delete_cmd_prefix": "rm(",
     "library": "var_list.r",
     "varRefreshCmd": "cat(var_dic_list()) "
    }
   },
   "types_to_exclude": [
    "module",
    "function",
    "builtin_function_or_method",
    "instance",
    "_Feature"
   ],
   "window_display": false
  }
 },
 "nbformat": 4,
 "nbformat_minor": 2
}
